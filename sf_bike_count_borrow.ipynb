{
 "cells": [
  {
   "cell_type": "code",
   "execution_count": 1,
   "metadata": {},
   "outputs": [],
   "source": [
    "import pandas as pd\n",
    "import numpy as np"
   ]
  },
  {
   "cell_type": "code",
   "execution_count": 2,
   "metadata": {},
   "outputs": [
    {
     "name": "stdout",
     "output_type": "stream",
     "text": [
      "CPU times: user 48.4 s, sys: 7.87 s, total: 56.3 s\n",
      "Wall time: 50.8 s\n"
     ]
    }
   ],
   "source": [
    "%time df = pd.read_csv(\"./status.csv\")"
   ]
  },
  {
   "cell_type": "code",
   "execution_count": 4,
   "metadata": {},
   "outputs": [
    {
     "data": {
      "text/html": [
       "<div>\n",
       "<style scoped>\n",
       "    .dataframe tbody tr th:only-of-type {\n",
       "        vertical-align: middle;\n",
       "    }\n",
       "\n",
       "    .dataframe tbody tr th {\n",
       "        vertical-align: top;\n",
       "    }\n",
       "\n",
       "    .dataframe thead th {\n",
       "        text-align: right;\n",
       "    }\n",
       "</style>\n",
       "<table border=\"1\" class=\"dataframe\">\n",
       "  <thead>\n",
       "    <tr style=\"text-align: right;\">\n",
       "      <th></th>\n",
       "      <th>station_id</th>\n",
       "      <th>bikes_available</th>\n",
       "      <th>docks_available</th>\n",
       "      <th>time</th>\n",
       "    </tr>\n",
       "  </thead>\n",
       "  <tbody>\n",
       "    <tr>\n",
       "      <th>0</th>\n",
       "      <td>2</td>\n",
       "      <td>2</td>\n",
       "      <td>25</td>\n",
       "      <td>2013/08/29 12:06:01</td>\n",
       "    </tr>\n",
       "    <tr>\n",
       "      <th>1</th>\n",
       "      <td>2</td>\n",
       "      <td>2</td>\n",
       "      <td>25</td>\n",
       "      <td>2013/08/29 12:07:01</td>\n",
       "    </tr>\n",
       "    <tr>\n",
       "      <th>2</th>\n",
       "      <td>2</td>\n",
       "      <td>2</td>\n",
       "      <td>25</td>\n",
       "      <td>2013/08/29 12:08:01</td>\n",
       "    </tr>\n",
       "    <tr>\n",
       "      <th>3</th>\n",
       "      <td>2</td>\n",
       "      <td>2</td>\n",
       "      <td>25</td>\n",
       "      <td>2013/08/29 12:09:01</td>\n",
       "    </tr>\n",
       "    <tr>\n",
       "      <th>4</th>\n",
       "      <td>2</td>\n",
       "      <td>2</td>\n",
       "      <td>25</td>\n",
       "      <td>2013/08/29 12:10:01</td>\n",
       "    </tr>\n",
       "  </tbody>\n",
       "</table>\n",
       "</div>"
      ],
      "text/plain": [
       "   station_id  bikes_available  docks_available                 time\n",
       "0           2                2               25  2013/08/29 12:06:01\n",
       "1           2                2               25  2013/08/29 12:07:01\n",
       "2           2                2               25  2013/08/29 12:08:01\n",
       "3           2                2               25  2013/08/29 12:09:01\n",
       "4           2                2               25  2013/08/29 12:10:01"
      ]
     },
     "execution_count": 4,
     "metadata": {},
     "output_type": "execute_result"
    }
   ],
   "source": [
    "df.head()"
   ]
  },
  {
   "cell_type": "code",
   "execution_count": 40,
   "metadata": {},
   "outputs": [],
   "source": [
    "datime = df[\"time\"]\n",
    "datime = datime.astype(str)\n",
    "datime = datime.str.split(\" \",expand=True)"
   ]
  },
  {
   "cell_type": "code",
   "execution_count": 41,
   "metadata": {},
   "outputs": [
    {
     "data": {
      "text/html": [
       "<div>\n",
       "<style scoped>\n",
       "    .dataframe tbody tr th:only-of-type {\n",
       "        vertical-align: middle;\n",
       "    }\n",
       "\n",
       "    .dataframe tbody tr th {\n",
       "        vertical-align: top;\n",
       "    }\n",
       "\n",
       "    .dataframe thead th {\n",
       "        text-align: right;\n",
       "    }\n",
       "</style>\n",
       "<table border=\"1\" class=\"dataframe\">\n",
       "  <thead>\n",
       "    <tr style=\"text-align: right;\">\n",
       "      <th></th>\n",
       "      <th>station_id</th>\n",
       "      <th>bikes_available</th>\n",
       "      <th>docks_available</th>\n",
       "      <th>time</th>\n",
       "      <th>year</th>\n",
       "      <th>month</th>\n",
       "      <th>day</th>\n",
       "      <th>hour</th>\n",
       "      <th>min</th>\n",
       "      <th>sec</th>\n",
       "    </tr>\n",
       "  </thead>\n",
       "  <tbody>\n",
       "    <tr>\n",
       "      <th>0</th>\n",
       "      <td>2</td>\n",
       "      <td>2</td>\n",
       "      <td>25</td>\n",
       "      <td>2013/08/29 12:06:01</td>\n",
       "      <td>2013</td>\n",
       "      <td>08</td>\n",
       "      <td>29</td>\n",
       "      <td>12</td>\n",
       "      <td>06</td>\n",
       "      <td>01</td>\n",
       "    </tr>\n",
       "    <tr>\n",
       "      <th>1</th>\n",
       "      <td>2</td>\n",
       "      <td>2</td>\n",
       "      <td>25</td>\n",
       "      <td>2013/08/29 12:07:01</td>\n",
       "      <td>2013</td>\n",
       "      <td>08</td>\n",
       "      <td>29</td>\n",
       "      <td>12</td>\n",
       "      <td>07</td>\n",
       "      <td>01</td>\n",
       "    </tr>\n",
       "    <tr>\n",
       "      <th>2</th>\n",
       "      <td>2</td>\n",
       "      <td>2</td>\n",
       "      <td>25</td>\n",
       "      <td>2013/08/29 12:08:01</td>\n",
       "      <td>2013</td>\n",
       "      <td>08</td>\n",
       "      <td>29</td>\n",
       "      <td>12</td>\n",
       "      <td>08</td>\n",
       "      <td>01</td>\n",
       "    </tr>\n",
       "    <tr>\n",
       "      <th>3</th>\n",
       "      <td>2</td>\n",
       "      <td>2</td>\n",
       "      <td>25</td>\n",
       "      <td>2013/08/29 12:09:01</td>\n",
       "      <td>2013</td>\n",
       "      <td>08</td>\n",
       "      <td>29</td>\n",
       "      <td>12</td>\n",
       "      <td>09</td>\n",
       "      <td>01</td>\n",
       "    </tr>\n",
       "    <tr>\n",
       "      <th>4</th>\n",
       "      <td>2</td>\n",
       "      <td>2</td>\n",
       "      <td>25</td>\n",
       "      <td>2013/08/29 12:10:01</td>\n",
       "      <td>2013</td>\n",
       "      <td>08</td>\n",
       "      <td>29</td>\n",
       "      <td>12</td>\n",
       "      <td>10</td>\n",
       "      <td>01</td>\n",
       "    </tr>\n",
       "    <tr>\n",
       "      <th>5</th>\n",
       "      <td>2</td>\n",
       "      <td>2</td>\n",
       "      <td>25</td>\n",
       "      <td>2013/08/29 12:11:01</td>\n",
       "      <td>2013</td>\n",
       "      <td>08</td>\n",
       "      <td>29</td>\n",
       "      <td>12</td>\n",
       "      <td>11</td>\n",
       "      <td>01</td>\n",
       "    </tr>\n",
       "    <tr>\n",
       "      <th>6</th>\n",
       "      <td>2</td>\n",
       "      <td>2</td>\n",
       "      <td>25</td>\n",
       "      <td>2013/08/29 12:12:01</td>\n",
       "      <td>2013</td>\n",
       "      <td>08</td>\n",
       "      <td>29</td>\n",
       "      <td>12</td>\n",
       "      <td>12</td>\n",
       "      <td>01</td>\n",
       "    </tr>\n",
       "    <tr>\n",
       "      <th>7</th>\n",
       "      <td>2</td>\n",
       "      <td>2</td>\n",
       "      <td>25</td>\n",
       "      <td>2013/08/29 12:13:01</td>\n",
       "      <td>2013</td>\n",
       "      <td>08</td>\n",
       "      <td>29</td>\n",
       "      <td>12</td>\n",
       "      <td>13</td>\n",
       "      <td>01</td>\n",
       "    </tr>\n",
       "    <tr>\n",
       "      <th>8</th>\n",
       "      <td>2</td>\n",
       "      <td>2</td>\n",
       "      <td>25</td>\n",
       "      <td>2013/08/29 12:15:01</td>\n",
       "      <td>2013</td>\n",
       "      <td>08</td>\n",
       "      <td>29</td>\n",
       "      <td>12</td>\n",
       "      <td>15</td>\n",
       "      <td>01</td>\n",
       "    </tr>\n",
       "    <tr>\n",
       "      <th>9</th>\n",
       "      <td>2</td>\n",
       "      <td>2</td>\n",
       "      <td>25</td>\n",
       "      <td>2013/08/29 12:16:02</td>\n",
       "      <td>2013</td>\n",
       "      <td>08</td>\n",
       "      <td>29</td>\n",
       "      <td>12</td>\n",
       "      <td>16</td>\n",
       "      <td>02</td>\n",
       "    </tr>\n",
       "  </tbody>\n",
       "</table>\n",
       "</div>"
      ],
      "text/plain": [
       "   station_id  bikes_available  docks_available                 time  year  \\\n",
       "0           2                2               25  2013/08/29 12:06:01  2013   \n",
       "1           2                2               25  2013/08/29 12:07:01  2013   \n",
       "2           2                2               25  2013/08/29 12:08:01  2013   \n",
       "3           2                2               25  2013/08/29 12:09:01  2013   \n",
       "4           2                2               25  2013/08/29 12:10:01  2013   \n",
       "5           2                2               25  2013/08/29 12:11:01  2013   \n",
       "6           2                2               25  2013/08/29 12:12:01  2013   \n",
       "7           2                2               25  2013/08/29 12:13:01  2013   \n",
       "8           2                2               25  2013/08/29 12:15:01  2013   \n",
       "9           2                2               25  2013/08/29 12:16:02  2013   \n",
       "\n",
       "  month day hour min sec  \n",
       "0    08  29   12  06  01  \n",
       "1    08  29   12  07  01  \n",
       "2    08  29   12  08  01  \n",
       "3    08  29   12  09  01  \n",
       "4    08  29   12  10  01  \n",
       "5    08  29   12  11  01  \n",
       "6    08  29   12  12  01  \n",
       "7    08  29   12  13  01  \n",
       "8    08  29   12  15  01  \n",
       "9    08  29   12  16  02  "
      ]
     },
     "execution_count": 41,
     "metadata": {},
     "output_type": "execute_result"
    }
   ],
   "source": [
    "date=datime.loc[:,0].str.split(\"/\",expand=True)\n",
    "time=datime.loc[:,1].str.split(\":\",expand=True)\n",
    "datetime = pd.concat([date,time],axis=1)\n",
    "datime_concat = pd.concat([df,datetime],axis=1)\n",
    "datime_concat.columns=(['station_id','bikes_available','docks_available','time','year','month','day','hour','min','sec'])\n",
    "datime_concat.head(10)\n"
   ]
  },
  {
   "cell_type": "code",
   "execution_count": 43,
   "metadata": {},
   "outputs": [
    {
     "data": {
      "text/plain": [
       "71984434"
      ]
     },
     "execution_count": 43,
     "metadata": {},
     "output_type": "execute_result"
    }
   ],
   "source": [
    "len(datime_concat)"
   ]
  },
  {
   "cell_type": "code",
   "execution_count": 42,
   "metadata": {},
   "outputs": [
    {
     "data": {
      "text/plain": [
       "station_id  year  month  day  hour  to_half  to_one\n",
       "2           2013  08     29   12    0.0      1.0       0.0\n",
       "                                    1.0      0.0       0.0\n",
       "                              13    0.0      1.0       0.0\n",
       "                                    1.0      0.0       1.0\n",
       "                              14    0.0      1.0       0.0\n",
       "Name: borr, dtype: float64"
      ]
     },
     "execution_count": 42,
     "metadata": {},
     "output_type": "execute_result"
    }
   ],
   "source": [
    "datime_concat['dock'] = datime_concat['bikes_available']+datime_concat['docks_available']\n",
    "datime_concat['dock_shift'] = datime_concat['docks_available'].shift()\n",
    "datime_concat['retu_borr'] = datime_concat['docks_available']-datime_concat['dock_shift']\n",
    "datime_concat.loc[datime_concat['retu_borr']>0,'retu']=1\n",
    "datime_concat['retu']=datime_concat['retu'].fillna(0)\n",
    "datime_concat.loc[datime_concat['retu_borr']<0,'borr']=1\n",
    "datime_concat['borr']=datime_concat['borr'].fillna(0)\n",
    "\n",
    "datime_concat['min']=datime_concat['min'].astype('int32')\n",
    "datime_concat.loc[datime_concat['min']<=30,'to_half']=1\n",
    "datime_concat['to_half']=datime_concat['to_half'].fillna(0)\n",
    "\n",
    "# datime_concat.loc[datime_concat['min']>30,'to_one']=1\n",
    "# datime_concat['to_one']=datime_concat['to_one'].fillna(0)\n",
    "\n",
    "datime_concat_value = datime_concat.groupby(['station_id','year','month','day','hour','to_half'])['borr'].sum().reset_index()\n"
   ]
  },
  {
   "cell_type": "code",
   "execution_count": 44,
   "metadata": {},
   "outputs": [
    {
     "data": {
      "text/plain": [
       "(array([5.21841e+05, 4.57230e+04, 3.61800e+03, 2.37900e+03, 3.71000e+02,\n",
       "        3.31000e+02, 1.09000e+02, 1.00000e+01, 1.40000e+01, 1.00000e+00]),\n",
       " array([ 0. ,  1.6,  3.2,  4.8,  6.4,  8. ,  9.6, 11.2, 12.8, 14.4, 16. ]),\n",
       " <a list of 10 Patch objects>)"
      ]
     },
     "execution_count": 44,
     "metadata": {},
     "output_type": "execute_result"
    },
    {
     "data": {
      "image/png": "[encoded data removed]",
      "text/plain": [
       "<Figure size 432x288 with 1 Axes>"
      ]
     },
     "metadata": {},
     "output_type": "display_data"
    }
   ],
   "source": [
    "import matplotlib.pyplot as plt\n",
    "%matplotlib inline\n",
    "plt.style.use('seaborn-white')\n",
    "plt.hist(datime_concat_value)"
   ]
  },
  {
   "cell_type": "code",
   "execution_count": null,
   "metadata": {},
   "outputs": [],
   "source": []
  }
 ],
 "metadata": {
  "kernelspec": {
   "display_name": "Python 3",
   "language": "python",
   "name": "python3"
  },
  "language_info": {
   "codemirror_mode": {
    "name": "ipython",
    "version": 3
   },
   "file_extension": ".py",
   "mimetype": "text/x-python",
   "name": "python",
   "nbconvert_exporter": "python",
   "pygments_lexer": "ipython3",
   "version": "3.6.3"
  }
 },
 "nbformat": 4,
 "nbformat_minor": 2
}
